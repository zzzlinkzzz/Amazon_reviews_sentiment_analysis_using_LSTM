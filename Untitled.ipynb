{
 "cells": [
  {
   "cell_type": "code",
   "execution_count": 1,
   "id": "f73dea65",
   "metadata": {},
   "outputs": [],
   "source": [
    "from model import LSTMModel\n",
    "from loader import make_dataloaders\n",
    "import torch\n",
    "from tqdm import tqdm"
   ]
  },
  {
   "cell_type": "code",
   "execution_count": 2,
   "id": "308940f2",
   "metadata": {},
   "outputs": [],
   "source": [
    "input_dim = 300\n",
    "hidden_dim = 250\n",
    "layer_dim = 1\n",
    "output_dim = 2\n",
    "batch_size = 500\n",
    "num_workers = 2"
   ]
  },
  {
   "cell_type": "code",
   "execution_count": 3,
   "id": "407950fc",
   "metadata": {},
   "outputs": [],
   "source": [
    "train_loader,test_loader = make_dataloaders('./dataset', 'both', batch_size, num_workers)"
   ]
  },
  {
   "cell_type": "code",
   "execution_count": 4,
   "id": "3ff21274",
   "metadata": {},
   "outputs": [],
   "source": [
    "model = LSTMModel(input_dim, hidden_dim, layer_dim, output_dim).to('cuda')"
   ]
  },
  {
   "cell_type": "code",
   "execution_count": 5,
   "id": "7c27c859",
   "metadata": {},
   "outputs": [],
   "source": [
    "def train(train_loader,model):\n",
    "    for i,batch in enumerate(train_loader):\n",
    "        if i == 10:\n",
    "            break\n",
    "        data = batch['text'].to('cuda')\n",
    "\n",
    "        outputs = model(data)\n",
    "#         print('outputs: ', outputs.data)\n",
    "\n",
    "        probs = torch.softmax(outputs, dim=1)\n",
    "#         print('probs: ', probs.data)\n",
    "\n",
    "        predict = torch.argmax(probs,dim=1).to('cpu')\n",
    "#         print('Predicted label: ', predict.numpy())"
   ]
  },
  {
   "cell_type": "code",
   "execution_count": 18,
   "id": "6ffb1ce0",
   "metadata": {},
   "outputs": [
    {
     "data": {
      "text/plain": [
       "7200"
      ]
     },
     "execution_count": 18,
     "metadata": {},
     "output_type": "execute_result"
    }
   ],
   "source": [
    "len(train_loader)"
   ]
  },
  {
   "cell_type": "code",
   "execution_count": 6,
   "id": "f017d55a",
   "metadata": {},
   "outputs": [
    {
     "name": "stderr",
     "output_type": "stream",
     "text": [
      "  0%|                                       | 10/7200 [00:16<3:14:54,  1.63s/it]\n"
     ]
    }
   ],
   "source": [
    "train(train_loader,model)"
   ]
  }
 ],
 "metadata": {
  "kernelspec": {
   "display_name": "Python 3 (ipykernel)",
   "language": "python",
   "name": "python3"
  },
  "language_info": {
   "codemirror_mode": {
    "name": "ipython",
    "version": 3
   },
   "file_extension": ".py",
   "mimetype": "text/x-python",
   "name": "python",
   "nbconvert_exporter": "python",
   "pygments_lexer": "ipython3",
   "version": "3.9.7"
  }
 },
 "nbformat": 4,
 "nbformat_minor": 5
}

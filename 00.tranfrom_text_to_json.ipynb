{
 "cells": [
  {
   "cell_type": "code",
   "execution_count": 1,
   "id": "604d45ac",
   "metadata": {},
   "outputs": [],
   "source": [
    "import matplotlib.pyplot as plt\n",
    "from tqdm import tqdm\n",
    "import json"
   ]
  },
  {
   "cell_type": "code",
   "execution_count": 4,
   "id": "415010b2",
   "metadata": {},
   "outputs": [],
   "source": [
    "# manual function\n",
    "\n",
    "def load_data(filename):\n",
    "    with open(f'raw_data/{filename}.txt','r') as f:\n",
    "        data = f.read().split('\\n')\n",
    "    return data\n",
    "\n",
    "def text_to_dict(filename):\n",
    "    labels,titles,reviews = [],[],[]\n",
    "    count = 0\n",
    "    for raw_review in tqdm(filename):\n",
    "        if len(raw_review) == 0:\n",
    "            continue\n",
    "        labels.append(raw_review[9])\n",
    "        title, review = raw_review[11:].split(': ',1)\n",
    "        titles.append(title)\n",
    "        reviews.append(review)\n",
    "    labels = list(map(int,labels))\n",
    "    titles = list(map(str.lower,titles))\n",
    "    reviews = list(map(str.lower,reviews))\n",
    "    tranformed_data = [{'label':labels[i],\n",
    "                   'title': titles[i],\n",
    "                   'review': reviews[i]\n",
    "                  } for i in range(len(labels))]\n",
    "    return tranformed_data\n",
    "\n",
    "def unique_label(filename):\n",
    "    unique_labels = set()\n",
    "    labels = [review['label'] for review in filename]\n",
    "    for label in labels:\n",
    "        unique_labels.add(label)\n",
    "    return unique_labels\n",
    "\n",
    "def length_histogram(filename, key, text):\n",
    "    string = [review[key] for review in filename]\n",
    "    length = [len(s.split(' ')) for s in string]\n",
    "    plt.hist(length, density=True, bins=30)\n",
    "    plt.xlabel(f'{text} length')\n",
    "    plt.ylabel('frequency')"
   ]
  },
  {
   "cell_type": "code",
   "execution_count": 5,
   "id": "8161a25c",
   "metadata": {},
   "outputs": [
    {
     "name": "stdout",
     "output_type": "stream",
     "text": [
      "3600001\n",
      "400001\n"
     ]
    }
   ],
   "source": [
    "train = load_data('train')\n",
    "test = load_data('test')\n",
    "\n",
    "print(len(train))\n",
    "print(len(test))"
   ]
  },
  {
   "cell_type": "code",
   "execution_count": 6,
   "id": "061be925",
   "metadata": {},
   "outputs": [
    {
     "name": "stderr",
     "output_type": "stream",
     "text": [
      "100%|███████████████████████████| 3600001/3600001 [00:03<00:00, 1054301.07it/s]\n",
      "100%|█████████████████████████████| 400001/400001 [00:00<00:00, 1049271.14it/s]\n"
     ]
    },
    {
     "name": "stdout",
     "output_type": "stream",
     "text": [
      "{'label': 2, 'title': 'stuning even for the non-gamer', 'review': 'this sound track was beautiful! it paints the senery in your mind so well i would recomend it even to people who hate vid. game music! i have played the game chrono cross but out of all of the games i have ever played it has the best music! it backs away from crude keyboarding and takes a fresher step with grate guitars and soulful orchestras. it would impress anyone who cares to listen! ^_^'}\n",
      "{'label': 2, 'title': 'great cd', 'review': 'my lovely pat has one of the great voices of her generation. i have listened to this cd for years and i still love it. when i\\'m in a good mood it makes me feel better. a bad mood just evaporates like sugar in the rain. this cd just oozes life. vocals are jusat stuunning and lyrics just kill. one of life\\'s hidden gems. this is a desert isle cd in my book. why she never made it big is just beyond me. everytime i play this, no matter black, white, young, old, male, female everybody says one thing \"who was that singing ?\"'}\n"
     ]
    }
   ],
   "source": [
    "train = text_to_dict(train)\n",
    "test = text_to_dict(test)\n",
    "\n",
    "print(train[0])\n",
    "print(test[0])"
   ]
  },
  {
   "cell_type": "code",
   "execution_count": 7,
   "id": "5d3339f7",
   "metadata": {},
   "outputs": [
    {
     "name": "stdout",
     "output_type": "stream",
     "text": [
      "{1, 2}\n",
      "{1, 2}\n"
     ]
    }
   ],
   "source": [
    "print(unique_label(train))\n",
    "print(unique_label(test))"
   ]
  },
  {
   "cell_type": "code",
   "execution_count": 16,
   "id": "8a2f6a4d",
   "metadata": {},
   "outputs": [
    {
     "data": {
      "image/png": "[encoded data removed]",
      "text/plain": [
       "<Figure size 1152x720 with 4 Axes>"
      ]
     },
     "metadata": {
      "needs_background": "light"
     },
     "output_type": "display_data"
    }
   ],
   "source": [
    "plt.figure(figsize = (16,10), dpi = 72)\n",
    "plt.subplot(2, 2, 1)\n",
    "length_histogram(train,'title', 'train title')\n",
    "plt.subplot(2, 2, 2)\n",
    "length_histogram(test,'title', 'test title')\n",
    "plt.subplot(2, 2, 3)\n",
    "length_histogram(train,'review', 'train review')\n",
    "plt.subplot(2, 2, 4)\n",
    "length_histogram(test,'review', 'test review')"
   ]
  },
  {
   "cell_type": "code",
   "execution_count": 10,
   "id": "7dea8b22",
   "metadata": {},
   "outputs": [
    {
     "name": "stderr",
     "output_type": "stream",
     "text": [
      "100%|████████████████████████████| 3600000/3600000 [00:13<00:00, 260426.82it/s]\n",
      "100%|██████████████████████████████| 400000/400000 [00:01<00:00, 263664.73it/s]\n"
     ]
    }
   ],
   "source": [
    "def writefile(file,name):\n",
    "    with open(f'dataset/{name}.json','w', encoding = 'utf-8') as f:\n",
    "        for line in tqdm(file):\n",
    "            f.write(str(line) +'\\n')\n",
    "            \n",
    "writefile(train,'train')\n",
    "writefile(test,'test')"
   ]
  },
  {
   "cell_type": "code",
   "execution_count": 13,
   "id": "f03ab7f1",
   "metadata": {},
   "outputs": [],
   "source": [
    "def chunk_split(filename, chunksize = 1000):\n",
    "    data_length = len(filename)\n",
    "    chunk_num = int(data_length//chunksize)\n",
    "    for i in range(chunk_num):\n",
    "        sublist = filename[i*chunksize:(i+1)*chunksize]\n",
    "        with open(f'chunk_{i}.json','w', encoding = 'utf-8') as f:\n",
    "            json.dump(sublist,f)\n",
    "            \n",
    "chunk_split(train)\n",
    "chunk_split(test)"
   ]
  }
 ],
 "metadata": {
  "kernelspec": {
   "display_name": "Python 3 (ipykernel)",
   "language": "python",
   "name": "python3"
  },
  "language_info": {
   "codemirror_mode": {
    "name": "ipython",
    "version": 3
   },
   "file_extension": ".py",
   "mimetype": "text/x-python",
   "name": "python",
   "nbconvert_exporter": "python",
   "pygments_lexer": "ipython3",
   "version": "3.9.7"
  }
 },
 "nbformat": 4,
 "nbformat_minor": 5
}
